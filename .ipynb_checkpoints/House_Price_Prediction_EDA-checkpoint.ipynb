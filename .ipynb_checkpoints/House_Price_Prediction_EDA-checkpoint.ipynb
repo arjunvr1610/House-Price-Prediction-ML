{
 "cells": [
  {
   "cell_type": "markdown",
   "id": "effb9239",
   "metadata": {},
   "source": [
    "# Project Name: House Prices: Advanced Regression Techniques"
   ]
  },
  {
   "cell_type": "markdown",
   "id": "348d109c",
   "metadata": {},
   "source": [
    "The main aim of this project is to predict the house price based on various features"
   ]
  },
  {
   "cell_type": "markdown",
   "id": "b5a5614f",
   "metadata": {},
   "source": [
    "## Dataset to downloaded from the below link"
   ]
  },
  {
   "cell_type": "markdown",
   "id": "2a355591",
   "metadata": {},
   "source": [
    "https://www.kaggle.com/c/house-prices-advanced-regression-techniques/data"
   ]
  },
  {
   "cell_type": "markdown",
   "id": "1f01ac7a",
   "metadata": {},
   "source": [
    "# Data Analysis"
   ]
  },
  {
   "cell_type": "code",
   "execution_count": null,
   "id": "e2aeca0f",
   "metadata": {},
   "outputs": [],
   "source": [
    "import pandas as pd\n",
    "import numpy as np\n",
    "import matplotlib.pyplot as plt\n",
    "import seaborn as sns\n",
    "\n",
    "pd.pandas.set_option(\"display.max_columns\", None)"
   ]
  },
  {
   "cell_type": "code",
   "execution_count": null,
   "id": "6b1bd6e5",
   "metadata": {},
   "outputs": [],
   "source": [
    "ds = pd.read_csv(\"house_price_train.csv\")\n",
    "ds.shape"
   ]
  },
  {
   "cell_type": "code",
   "execution_count": null,
   "id": "6cab69ab",
   "metadata": {},
   "outputs": [],
   "source": [
    "ds.head()"
   ]
  },
  {
   "cell_type": "markdown",
   "id": "a269054c",
   "metadata": {},
   "source": [
    "## Missing Values"
   ]
  },
  {
   "cell_type": "code",
   "execution_count": null,
   "id": "8a940c6a",
   "metadata": {},
   "outputs": [],
   "source": [
    "features_with_nan = [feature for feature in ds.columns if ds[feature].isnull().sum() > 1]\n",
    "\n",
    "for feature in features_with_nan:\n",
    "    print(feature, np.round(ds[feature].isnull().mean(), 4), \" % missing or null values\")"
   ]
  },
  {
   "cell_type": "code",
   "execution_count": null,
   "id": "290b00b5",
   "metadata": {},
   "outputs": [],
   "source": [
    "# To see how missing values affect sale price for each feature\n",
    "for column in features_with_nan:\n",
    "    data = ds.copy()\n",
    "    \n",
    "    data[column] = np.where(data[column].isnull(), 1, 0) # If the observation is null then 1 or else 0\n",
    "    \n",
    "    data.groupby(column)[\"SalePrice\"].median().plot.bar() # Calculate mean sale price for values which are null and not null\n",
    "    plt.title(column)\n",
    "    plt.show()"
   ]
  },
  {
   "cell_type": "markdown",
   "id": "bddca881",
   "metadata": {},
   "source": [
    "Here With the relation between the missing values and the dependent variable is clearly visible.So We need to replace these nan values with something meaningful values"
   ]
  },
  {
   "cell_type": "markdown",
   "id": "ae582e7f",
   "metadata": {},
   "source": [
    "In above dataset some of the features like Id is not required"
   ]
  },
  {
   "cell_type": "markdown",
   "id": "882f6028",
   "metadata": {},
   "source": [
    "## Numerical values"
   ]
  },
  {
   "cell_type": "code",
   "execution_count": null,
   "id": "9531831c",
   "metadata": {},
   "outputs": [],
   "source": [
    "# Extracting features with numerical values\n",
    "features_with_num = [feature for feature in ds.columns if ds[feature].dtype != 'O']\n",
    "\n",
    "print(\"Number of features with numerical values: \", len(features_with_num))\n",
    "ds[features_with_num].head()"
   ]
  },
  {
   "cell_type": "code",
   "execution_count": null,
   "id": "cfa8f687",
   "metadata": {},
   "outputs": [],
   "source": [
    "'''Finding features with temporal values( datetime values) and their relationship with sale price since there are 4 features\n",
    "   with datetime values in above numerical features list'''\n",
    "temporal_features = [feature for feature in features_with_num if 'Year' in feature or 'Yr' in feature]\n",
    "print(temporal_features)\n",
    "\n",
    "for feature in temporal_features:\n",
    "    print(feature, ds[feature].unique())"
   ]
  },
  {
   "cell_type": "code",
   "execution_count": null,
   "id": "8b30f69a",
   "metadata": {},
   "outputs": [],
   "source": [
    "# Realtionship of YrSold with SalePrice\n",
    "ds.groupby('YrSold')['SalePrice'].median().plot()\n",
    "plt.xlabel('Year sold')\n",
    "plt.ylabel('Sale Price')\n",
    "plt.title(\"YrSold vs SalePrice\")\n",
    "plt.show()"
   ]
  },
  {
   "cell_type": "code",
   "execution_count": null,
   "id": "a1d5506a",
   "metadata": {},
   "outputs": [],
   "source": [
    "# Lets check relationship of all the year features with sales price\n",
    "for feature in temporal_features:\n",
    "    data = ds.copy()\n",
    "    if feature != 'YrSold':\n",
    "        data[feature] = data['YrSold'] -  data[feature] # Calculate difference between year sold and year in feature\n",
    "        \n",
    "        plt.scatter(data[feature], data['SalePrice'])\n",
    "        plt.xlabel(feature)\n",
    "        plt.ylabel('SalePrice')\n",
    "        plt.show()"
   ]
  },
  {
   "cell_type": "code",
   "execution_count": null,
   "id": "282b28c1",
   "metadata": {},
   "outputs": [],
   "source": [
    "# Numerical variables are of 2 types - Continous and Discrete variables\n",
    "# First let's find out all the features with discrete variables\n",
    "discrete_features = [feature for feature in features_with_num if len(ds[feature].unique()) < 25 and feature not in temporal_features+['Id']]\n",
    "print('number of discrete features are: ', len(discrete_features))"
   ]
  },
  {
   "cell_type": "code",
   "execution_count": null,
   "id": "02d0ad7a",
   "metadata": {},
   "outputs": [],
   "source": [
    "ds[discrete_features].head()"
   ]
  },
  {
   "cell_type": "code",
   "execution_count": null,
   "id": "ce69cf1b",
   "metadata": {},
   "outputs": [],
   "source": [
    "# Let's compare the relationship of different discrete features with sale price\n",
    "for feature in discrete_features:\n",
    "    data = ds.copy()\n",
    "    \n",
    "    data.groupby(feature)['SalePrice'].median().plot.bar()\n",
    "    plt.xlabel(feature)\n",
    "    plt.ylabel('SalePrice')\n",
    "    plt.title(f'{feature} vs SalePrice')\n",
    "    plt.show()"
   ]
  },
  {
   "cell_type": "code",
   "execution_count": null,
   "id": "12e8e385",
   "metadata": {},
   "outputs": [],
   "source": [
    "# Now let's find all features with continous variables\n",
    "continous_features = [feature for feature in features_with_num if feature not in temporal_features+discrete_features+['Id']]\n",
    "print(\"Number of continous features are: \", len(continous_features))"
   ]
  },
  {
   "cell_type": "code",
   "execution_count": null,
   "id": "5be27e88",
   "metadata": {},
   "outputs": [],
   "source": [
    "ds[continous_features].head()"
   ]
  },
  {
   "cell_type": "code",
   "execution_count": null,
   "id": "985dc40a",
   "metadata": {},
   "outputs": [],
   "source": [
    "# Lets analyse the continuous values by creating histograms to understand the distribution\n",
    "for feature in continous_features:\n",
    "    data = ds.copy()\n",
    "\n",
    "    data[feature].hist(bins=25)\n",
    "    plt.xlabel(feature)\n",
    "    plt.ylabel('Count')\n",
    "    plt.title(feature)\n",
    "    plt.show()"
   ]
  },
  {
   "cell_type": "code",
   "execution_count": null,
   "id": "b8aefd2d",
   "metadata": {},
   "outputs": [],
   "source": [
    "# we will use logarithmic transformation to deal with skewed data in continous type of data\n",
    "\n",
    "for feature in continous_features:\n",
    "    data = ds.copy()\n",
    "    if 0 in data[feature].unique():\n",
    "        pass\n",
    "    else:\n",
    "        data[feature] = np.log(data[feature])\n",
    "        data['SalePrice'] = np.log(data['SalePrice'])\n",
    "        data[feature].hist(bins=25)\n",
    "        plt.xlabel(feature)\n",
    "        plt.ylabel('Count')\n",
    "        plt.title(feature)\n",
    "        plt.show()"
   ]
  },
  {
   "cell_type": "code",
   "execution_count": null,
   "id": "cb4a9134",
   "metadata": {},
   "outputs": [],
   "source": [
    "for feature in continous_features:\n",
    "    data = ds.copy()\n",
    "    if 0 in data[feature].unique():\n",
    "        pass\n",
    "    else:\n",
    "        data[feature] = np.log(data[feature])\n",
    "        data['SalePrice'] = np.log(data['SalePrice'])\n",
    "        plt.scatter(data[feature], data['SalePrice'])\n",
    "        plt.xlabel(feature)\n",
    "        plt.ylabel('SalePrice')\n",
    "        plt.title(feature)\n",
    "        plt.show()"
   ]
  },
  {
   "cell_type": "markdown",
   "id": "b8150925",
   "metadata": {},
   "source": [
    "## Outliers"
   ]
  },
  {
   "cell_type": "code",
   "execution_count": null,
   "id": "fc863a0f",
   "metadata": {},
   "outputs": [],
   "source": [
    "# Let's check outliers in continous features\n",
    "\n",
    "for feature in continous_features:\n",
    "    data = ds.copy()\n",
    "    \n",
    "    if 0 in data[feature].unique():\n",
    "        pass\n",
    "    else:\n",
    "        data[feature] = np.log(data[feature])\n",
    "        data.boxplot(column=feature)\n",
    "        plt.ylabel(feature)\n",
    "        plt.title(feature)\n",
    "        plt.show()"
   ]
  },
  {
   "cell_type": "markdown",
   "id": "1b37075b",
   "metadata": {},
   "source": [
    "## Categorical values"
   ]
  },
  {
   "cell_type": "code",
   "execution_count": null,
   "id": "9a67a2f7",
   "metadata": {},
   "outputs": [],
   "source": [
    "categorical_features = [feature for feature in ds.columns if ds[feature].dtypes == 'O']\n",
    "print(f'The number of columns in dataset with categorical values are {len(categorical_features)}')\n",
    "ds[categorical_features].head()"
   ]
  },
  {
   "cell_type": "code",
   "execution_count": null,
   "id": "ce1de19e",
   "metadata": {},
   "outputs": [],
   "source": [
    "# Lets see how many categories does each feature have\n",
    "\n",
    "for feature in categorical_features:\n",
    "    print(f'{feature} has number of categories = {ds[feature].nunique()}')"
   ]
  },
  {
   "cell_type": "code",
   "execution_count": null,
   "id": "88ba0d70",
   "metadata": {},
   "outputs": [],
   "source": [
    "# Let's check how different categories in each feature affect th sale price\n",
    "\n",
    "for feature in categorical_features:\n",
    "    data = ds.copy()\n",
    "    \n",
    "    data.groupby(feature)['SalePrice'].median().plot.bar()\n",
    "    plt.xlabel(feature)\n",
    "    plt.ylabel('SalePrice')\n",
    "    plt.title(f'{feature} vs SalePrice')\n",
    "    plt.show()"
   ]
  },
  {
   "cell_type": "code",
   "execution_count": null,
   "id": "bbeed5d9",
   "metadata": {},
   "outputs": [],
   "source": [
    "# To see count of each category in a feature\n",
    "\n",
    "for feature in categorical_features:\n",
    "    data = ds.copy()\n",
    "    \n",
    "    sns.set_style('whitegrid')\n",
    "    sns.countplot(x=feature, data=data)\n",
    "    plt.title(feature)\n",
    "    plt.show()"
   ]
  }
 ],
 "metadata": {
  "kernelspec": {
   "display_name": "Python 3 (ipykernel)",
   "language": "python",
   "name": "python3"
  },
  "language_info": {
   "codemirror_mode": {
    "name": "ipython",
    "version": 3
   },
   "file_extension": ".py",
   "mimetype": "text/x-python",
   "name": "python",
   "nbconvert_exporter": "python",
   "pygments_lexer": "ipython3",
   "version": "3.10.4"
  }
 },
 "nbformat": 4,
 "nbformat_minor": 5
}
